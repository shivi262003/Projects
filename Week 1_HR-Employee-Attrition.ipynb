{
 "cells": [
  {
   "cell_type": "markdown",
   "id": "6fff14c1",
   "metadata": {},
   "source": [
    "# HR-Employee-Attrition"
   ]
  },
  {
   "cell_type": "code",
   "execution_count": 1,
   "id": "29296918",
   "metadata": {},
   "outputs": [],
   "source": [
    "# Importing Libraries required\n",
    "import pandas as pd\n",
    "import seaborn as sns\n",
    "import numpy as np"
   ]
  },
  {
   "cell_type": "code",
   "execution_count": 5,
   "id": "2c76d277",
   "metadata": {},
   "outputs": [
    {
     "data": {
      "text/html": [
       "<div>\n",
       "<style scoped>\n",
       "    .dataframe tbody tr th:only-of-type {\n",
       "        vertical-align: middle;\n",
       "    }\n",
       "\n",
       "    .dataframe tbody tr th {\n",
       "        vertical-align: top;\n",
       "    }\n",
       "\n",
       "    .dataframe thead th {\n",
       "        text-align: right;\n",
       "    }\n",
       "</style>\n",
       "<table border=\"1\" class=\"dataframe\">\n",
       "  <thead>\n",
       "    <tr style=\"text-align: right;\">\n",
       "      <th></th>\n",
       "      <th>Age</th>\n",
       "      <th>Attrition</th>\n",
       "      <th>BusinessTravel</th>\n",
       "      <th>DailyRate</th>\n",
       "      <th>Department</th>\n",
       "      <th>DistanceFromHome</th>\n",
       "      <th>Education</th>\n",
       "      <th>EducationField</th>\n",
       "      <th>EmployeeCount</th>\n",
       "      <th>EmployeeNumber</th>\n",
       "      <th>...</th>\n",
       "      <th>RelationshipSatisfaction</th>\n",
       "      <th>StandardHours</th>\n",
       "      <th>StockOptionLevel</th>\n",
       "      <th>TotalWorkingYears</th>\n",
       "      <th>TrainingTimesLastYear</th>\n",
       "      <th>WorkLifeBalance</th>\n",
       "      <th>YearsAtCompany</th>\n",
       "      <th>YearsInCurrentRole</th>\n",
       "      <th>YearsSinceLastPromotion</th>\n",
       "      <th>YearsWithCurrManager</th>\n",
       "    </tr>\n",
       "  </thead>\n",
       "  <tbody>\n",
       "    <tr>\n",
       "      <th>0</th>\n",
       "      <td>41</td>\n",
       "      <td>Yes</td>\n",
       "      <td>Travel_Rarely</td>\n",
       "      <td>1102</td>\n",
       "      <td>Sales</td>\n",
       "      <td>1</td>\n",
       "      <td>2</td>\n",
       "      <td>Life Sciences</td>\n",
       "      <td>1</td>\n",
       "      <td>1</td>\n",
       "      <td>...</td>\n",
       "      <td>1</td>\n",
       "      <td>80</td>\n",
       "      <td>0</td>\n",
       "      <td>8</td>\n",
       "      <td>0</td>\n",
       "      <td>1</td>\n",
       "      <td>6</td>\n",
       "      <td>4</td>\n",
       "      <td>0</td>\n",
       "      <td>5</td>\n",
       "    </tr>\n",
       "    <tr>\n",
       "      <th>1</th>\n",
       "      <td>49</td>\n",
       "      <td>No</td>\n",
       "      <td>Travel_Frequently</td>\n",
       "      <td>279</td>\n",
       "      <td>Research &amp; Development</td>\n",
       "      <td>8</td>\n",
       "      <td>1</td>\n",
       "      <td>Life Sciences</td>\n",
       "      <td>1</td>\n",
       "      <td>2</td>\n",
       "      <td>...</td>\n",
       "      <td>4</td>\n",
       "      <td>80</td>\n",
       "      <td>1</td>\n",
       "      <td>10</td>\n",
       "      <td>3</td>\n",
       "      <td>3</td>\n",
       "      <td>10</td>\n",
       "      <td>7</td>\n",
       "      <td>1</td>\n",
       "      <td>7</td>\n",
       "    </tr>\n",
       "    <tr>\n",
       "      <th>2</th>\n",
       "      <td>37</td>\n",
       "      <td>Yes</td>\n",
       "      <td>Travel_Rarely</td>\n",
       "      <td>1373</td>\n",
       "      <td>Research &amp; Development</td>\n",
       "      <td>2</td>\n",
       "      <td>2</td>\n",
       "      <td>Other</td>\n",
       "      <td>1</td>\n",
       "      <td>4</td>\n",
       "      <td>...</td>\n",
       "      <td>2</td>\n",
       "      <td>80</td>\n",
       "      <td>0</td>\n",
       "      <td>7</td>\n",
       "      <td>3</td>\n",
       "      <td>3</td>\n",
       "      <td>0</td>\n",
       "      <td>0</td>\n",
       "      <td>0</td>\n",
       "      <td>0</td>\n",
       "    </tr>\n",
       "    <tr>\n",
       "      <th>3</th>\n",
       "      <td>33</td>\n",
       "      <td>No</td>\n",
       "      <td>Travel_Frequently</td>\n",
       "      <td>1392</td>\n",
       "      <td>Research &amp; Development</td>\n",
       "      <td>3</td>\n",
       "      <td>4</td>\n",
       "      <td>Life Sciences</td>\n",
       "      <td>1</td>\n",
       "      <td>5</td>\n",
       "      <td>...</td>\n",
       "      <td>3</td>\n",
       "      <td>80</td>\n",
       "      <td>0</td>\n",
       "      <td>8</td>\n",
       "      <td>3</td>\n",
       "      <td>3</td>\n",
       "      <td>8</td>\n",
       "      <td>7</td>\n",
       "      <td>3</td>\n",
       "      <td>0</td>\n",
       "    </tr>\n",
       "    <tr>\n",
       "      <th>4</th>\n",
       "      <td>27</td>\n",
       "      <td>No</td>\n",
       "      <td>Travel_Rarely</td>\n",
       "      <td>591</td>\n",
       "      <td>Research &amp; Development</td>\n",
       "      <td>2</td>\n",
       "      <td>1</td>\n",
       "      <td>Medical</td>\n",
       "      <td>1</td>\n",
       "      <td>7</td>\n",
       "      <td>...</td>\n",
       "      <td>4</td>\n",
       "      <td>80</td>\n",
       "      <td>1</td>\n",
       "      <td>6</td>\n",
       "      <td>3</td>\n",
       "      <td>3</td>\n",
       "      <td>2</td>\n",
       "      <td>2</td>\n",
       "      <td>2</td>\n",
       "      <td>2</td>\n",
       "    </tr>\n",
       "  </tbody>\n",
       "</table>\n",
       "<p>5 rows × 35 columns</p>\n",
       "</div>"
      ],
      "text/plain": [
       "   Age Attrition     BusinessTravel  DailyRate              Department  \\\n",
       "0   41       Yes      Travel_Rarely       1102                   Sales   \n",
       "1   49        No  Travel_Frequently        279  Research & Development   \n",
       "2   37       Yes      Travel_Rarely       1373  Research & Development   \n",
       "3   33        No  Travel_Frequently       1392  Research & Development   \n",
       "4   27        No      Travel_Rarely        591  Research & Development   \n",
       "\n",
       "   DistanceFromHome  Education EducationField  EmployeeCount  EmployeeNumber  \\\n",
       "0                 1          2  Life Sciences              1               1   \n",
       "1                 8          1  Life Sciences              1               2   \n",
       "2                 2          2          Other              1               4   \n",
       "3                 3          4  Life Sciences              1               5   \n",
       "4                 2          1        Medical              1               7   \n",
       "\n",
       "   ...  RelationshipSatisfaction StandardHours  StockOptionLevel  \\\n",
       "0  ...                         1            80                 0   \n",
       "1  ...                         4            80                 1   \n",
       "2  ...                         2            80                 0   \n",
       "3  ...                         3            80                 0   \n",
       "4  ...                         4            80                 1   \n",
       "\n",
       "   TotalWorkingYears  TrainingTimesLastYear WorkLifeBalance  YearsAtCompany  \\\n",
       "0                  8                      0               1               6   \n",
       "1                 10                      3               3              10   \n",
       "2                  7                      3               3               0   \n",
       "3                  8                      3               3               8   \n",
       "4                  6                      3               3               2   \n",
       "\n",
       "  YearsInCurrentRole  YearsSinceLastPromotion  YearsWithCurrManager  \n",
       "0                  4                        0                     5  \n",
       "1                  7                        1                     7  \n",
       "2                  0                        0                     0  \n",
       "3                  7                        3                     0  \n",
       "4                  2                        2                     2  \n",
       "\n",
       "[5 rows x 35 columns]"
      ]
     },
     "execution_count": 5,
     "metadata": {},
     "output_type": "execute_result"
    }
   ],
   "source": [
    "data = pd.read_csv(\"C:\\\\Users\\\\Lenovo\\\\Desktop\\\\Semester 4\\\\Advance ML\\\\Data\\\\IBM.csv\")\n",
    "data.head()"
   ]
  },
  {
   "cell_type": "markdown",
   "id": "2f2de658",
   "metadata": {},
   "source": [
    "# EDA"
   ]
  },
  {
   "cell_type": "code",
   "execution_count": 6,
   "id": "02dc4d81",
   "metadata": {},
   "outputs": [
    {
     "name": "stdout",
     "output_type": "stream",
     "text": [
      "<class 'pandas.core.frame.DataFrame'>\n",
      "RangeIndex: 1470 entries, 0 to 1469\n",
      "Data columns (total 35 columns):\n",
      " #   Column                    Non-Null Count  Dtype \n",
      "---  ------                    --------------  ----- \n",
      " 0   Age                       1470 non-null   int64 \n",
      " 1   Attrition                 1470 non-null   object\n",
      " 2   BusinessTravel            1470 non-null   object\n",
      " 3   DailyRate                 1470 non-null   int64 \n",
      " 4   Department                1470 non-null   object\n",
      " 5   DistanceFromHome          1470 non-null   int64 \n",
      " 6   Education                 1470 non-null   int64 \n",
      " 7   EducationField            1470 non-null   object\n",
      " 8   EmployeeCount             1470 non-null   int64 \n",
      " 9   EmployeeNumber            1470 non-null   int64 \n",
      " 10  EnvironmentSatisfaction   1470 non-null   int64 \n",
      " 11  Gender                    1470 non-null   object\n",
      " 12  HourlyRate                1470 non-null   int64 \n",
      " 13  JobInvolvement            1470 non-null   int64 \n",
      " 14  JobLevel                  1470 non-null   int64 \n",
      " 15  JobRole                   1470 non-null   object\n",
      " 16  JobSatisfaction           1470 non-null   int64 \n",
      " 17  MaritalStatus             1470 non-null   object\n",
      " 18  MonthlyIncome             1470 non-null   int64 \n",
      " 19  MonthlyRate               1470 non-null   int64 \n",
      " 20  NumCompaniesWorked        1470 non-null   int64 \n",
      " 21  Over18                    1470 non-null   object\n",
      " 22  OverTime                  1470 non-null   object\n",
      " 23  PercentSalaryHike         1470 non-null   int64 \n",
      " 24  PerformanceRating         1470 non-null   int64 \n",
      " 25  RelationshipSatisfaction  1470 non-null   int64 \n",
      " 26  StandardHours             1470 non-null   int64 \n",
      " 27  StockOptionLevel          1470 non-null   int64 \n",
      " 28  TotalWorkingYears         1470 non-null   int64 \n",
      " 29  TrainingTimesLastYear     1470 non-null   int64 \n",
      " 30  WorkLifeBalance           1470 non-null   int64 \n",
      " 31  YearsAtCompany            1470 non-null   int64 \n",
      " 32  YearsInCurrentRole        1470 non-null   int64 \n",
      " 33  YearsSinceLastPromotion   1470 non-null   int64 \n",
      " 34  YearsWithCurrManager      1470 non-null   int64 \n",
      "dtypes: int64(26), object(9)\n",
      "memory usage: 402.1+ KB\n"
     ]
    }
   ],
   "source": [
    "data.info()"
   ]
  },
  {
   "cell_type": "code",
   "execution_count": 7,
   "id": "b09c22d9",
   "metadata": {},
   "outputs": [
    {
     "data": {
      "text/html": [
       "<div>\n",
       "<style scoped>\n",
       "    .dataframe tbody tr th:only-of-type {\n",
       "        vertical-align: middle;\n",
       "    }\n",
       "\n",
       "    .dataframe tbody tr th {\n",
       "        vertical-align: top;\n",
       "    }\n",
       "\n",
       "    .dataframe thead th {\n",
       "        text-align: right;\n",
       "    }\n",
       "</style>\n",
       "<table border=\"1\" class=\"dataframe\">\n",
       "  <thead>\n",
       "    <tr style=\"text-align: right;\">\n",
       "      <th></th>\n",
       "      <th>Age</th>\n",
       "      <th>DailyRate</th>\n",
       "      <th>DistanceFromHome</th>\n",
       "      <th>Education</th>\n",
       "      <th>EmployeeCount</th>\n",
       "      <th>EmployeeNumber</th>\n",
       "      <th>EnvironmentSatisfaction</th>\n",
       "      <th>HourlyRate</th>\n",
       "      <th>JobInvolvement</th>\n",
       "      <th>JobLevel</th>\n",
       "      <th>...</th>\n",
       "      <th>RelationshipSatisfaction</th>\n",
       "      <th>StandardHours</th>\n",
       "      <th>StockOptionLevel</th>\n",
       "      <th>TotalWorkingYears</th>\n",
       "      <th>TrainingTimesLastYear</th>\n",
       "      <th>WorkLifeBalance</th>\n",
       "      <th>YearsAtCompany</th>\n",
       "      <th>YearsInCurrentRole</th>\n",
       "      <th>YearsSinceLastPromotion</th>\n",
       "      <th>YearsWithCurrManager</th>\n",
       "    </tr>\n",
       "  </thead>\n",
       "  <tbody>\n",
       "    <tr>\n",
       "      <th>count</th>\n",
       "      <td>1470.000000</td>\n",
       "      <td>1470.000000</td>\n",
       "      <td>1470.000000</td>\n",
       "      <td>1470.000000</td>\n",
       "      <td>1470.0</td>\n",
       "      <td>1470.000000</td>\n",
       "      <td>1470.000000</td>\n",
       "      <td>1470.000000</td>\n",
       "      <td>1470.000000</td>\n",
       "      <td>1470.000000</td>\n",
       "      <td>...</td>\n",
       "      <td>1470.000000</td>\n",
       "      <td>1470.0</td>\n",
       "      <td>1470.000000</td>\n",
       "      <td>1470.000000</td>\n",
       "      <td>1470.000000</td>\n",
       "      <td>1470.000000</td>\n",
       "      <td>1470.000000</td>\n",
       "      <td>1470.000000</td>\n",
       "      <td>1470.000000</td>\n",
       "      <td>1470.000000</td>\n",
       "    </tr>\n",
       "    <tr>\n",
       "      <th>mean</th>\n",
       "      <td>36.923810</td>\n",
       "      <td>802.485714</td>\n",
       "      <td>9.192517</td>\n",
       "      <td>2.912925</td>\n",
       "      <td>1.0</td>\n",
       "      <td>1024.865306</td>\n",
       "      <td>2.721769</td>\n",
       "      <td>65.891156</td>\n",
       "      <td>2.729932</td>\n",
       "      <td>2.063946</td>\n",
       "      <td>...</td>\n",
       "      <td>2.712245</td>\n",
       "      <td>80.0</td>\n",
       "      <td>0.793878</td>\n",
       "      <td>11.279592</td>\n",
       "      <td>2.799320</td>\n",
       "      <td>2.761224</td>\n",
       "      <td>7.008163</td>\n",
       "      <td>4.229252</td>\n",
       "      <td>2.187755</td>\n",
       "      <td>4.123129</td>\n",
       "    </tr>\n",
       "    <tr>\n",
       "      <th>std</th>\n",
       "      <td>9.135373</td>\n",
       "      <td>403.509100</td>\n",
       "      <td>8.106864</td>\n",
       "      <td>1.024165</td>\n",
       "      <td>0.0</td>\n",
       "      <td>602.024335</td>\n",
       "      <td>1.093082</td>\n",
       "      <td>20.329428</td>\n",
       "      <td>0.711561</td>\n",
       "      <td>1.106940</td>\n",
       "      <td>...</td>\n",
       "      <td>1.081209</td>\n",
       "      <td>0.0</td>\n",
       "      <td>0.852077</td>\n",
       "      <td>7.780782</td>\n",
       "      <td>1.289271</td>\n",
       "      <td>0.706476</td>\n",
       "      <td>6.126525</td>\n",
       "      <td>3.623137</td>\n",
       "      <td>3.222430</td>\n",
       "      <td>3.568136</td>\n",
       "    </tr>\n",
       "    <tr>\n",
       "      <th>min</th>\n",
       "      <td>18.000000</td>\n",
       "      <td>102.000000</td>\n",
       "      <td>1.000000</td>\n",
       "      <td>1.000000</td>\n",
       "      <td>1.0</td>\n",
       "      <td>1.000000</td>\n",
       "      <td>1.000000</td>\n",
       "      <td>30.000000</td>\n",
       "      <td>1.000000</td>\n",
       "      <td>1.000000</td>\n",
       "      <td>...</td>\n",
       "      <td>1.000000</td>\n",
       "      <td>80.0</td>\n",
       "      <td>0.000000</td>\n",
       "      <td>0.000000</td>\n",
       "      <td>0.000000</td>\n",
       "      <td>1.000000</td>\n",
       "      <td>0.000000</td>\n",
       "      <td>0.000000</td>\n",
       "      <td>0.000000</td>\n",
       "      <td>0.000000</td>\n",
       "    </tr>\n",
       "    <tr>\n",
       "      <th>25%</th>\n",
       "      <td>30.000000</td>\n",
       "      <td>465.000000</td>\n",
       "      <td>2.000000</td>\n",
       "      <td>2.000000</td>\n",
       "      <td>1.0</td>\n",
       "      <td>491.250000</td>\n",
       "      <td>2.000000</td>\n",
       "      <td>48.000000</td>\n",
       "      <td>2.000000</td>\n",
       "      <td>1.000000</td>\n",
       "      <td>...</td>\n",
       "      <td>2.000000</td>\n",
       "      <td>80.0</td>\n",
       "      <td>0.000000</td>\n",
       "      <td>6.000000</td>\n",
       "      <td>2.000000</td>\n",
       "      <td>2.000000</td>\n",
       "      <td>3.000000</td>\n",
       "      <td>2.000000</td>\n",
       "      <td>0.000000</td>\n",
       "      <td>2.000000</td>\n",
       "    </tr>\n",
       "    <tr>\n",
       "      <th>50%</th>\n",
       "      <td>36.000000</td>\n",
       "      <td>802.000000</td>\n",
       "      <td>7.000000</td>\n",
       "      <td>3.000000</td>\n",
       "      <td>1.0</td>\n",
       "      <td>1020.500000</td>\n",
       "      <td>3.000000</td>\n",
       "      <td>66.000000</td>\n",
       "      <td>3.000000</td>\n",
       "      <td>2.000000</td>\n",
       "      <td>...</td>\n",
       "      <td>3.000000</td>\n",
       "      <td>80.0</td>\n",
       "      <td>1.000000</td>\n",
       "      <td>10.000000</td>\n",
       "      <td>3.000000</td>\n",
       "      <td>3.000000</td>\n",
       "      <td>5.000000</td>\n",
       "      <td>3.000000</td>\n",
       "      <td>1.000000</td>\n",
       "      <td>3.000000</td>\n",
       "    </tr>\n",
       "    <tr>\n",
       "      <th>75%</th>\n",
       "      <td>43.000000</td>\n",
       "      <td>1157.000000</td>\n",
       "      <td>14.000000</td>\n",
       "      <td>4.000000</td>\n",
       "      <td>1.0</td>\n",
       "      <td>1555.750000</td>\n",
       "      <td>4.000000</td>\n",
       "      <td>83.750000</td>\n",
       "      <td>3.000000</td>\n",
       "      <td>3.000000</td>\n",
       "      <td>...</td>\n",
       "      <td>4.000000</td>\n",
       "      <td>80.0</td>\n",
       "      <td>1.000000</td>\n",
       "      <td>15.000000</td>\n",
       "      <td>3.000000</td>\n",
       "      <td>3.000000</td>\n",
       "      <td>9.000000</td>\n",
       "      <td>7.000000</td>\n",
       "      <td>3.000000</td>\n",
       "      <td>7.000000</td>\n",
       "    </tr>\n",
       "    <tr>\n",
       "      <th>max</th>\n",
       "      <td>60.000000</td>\n",
       "      <td>1499.000000</td>\n",
       "      <td>29.000000</td>\n",
       "      <td>5.000000</td>\n",
       "      <td>1.0</td>\n",
       "      <td>2068.000000</td>\n",
       "      <td>4.000000</td>\n",
       "      <td>100.000000</td>\n",
       "      <td>4.000000</td>\n",
       "      <td>5.000000</td>\n",
       "      <td>...</td>\n",
       "      <td>4.000000</td>\n",
       "      <td>80.0</td>\n",
       "      <td>3.000000</td>\n",
       "      <td>40.000000</td>\n",
       "      <td>6.000000</td>\n",
       "      <td>4.000000</td>\n",
       "      <td>40.000000</td>\n",
       "      <td>18.000000</td>\n",
       "      <td>15.000000</td>\n",
       "      <td>17.000000</td>\n",
       "    </tr>\n",
       "  </tbody>\n",
       "</table>\n",
       "<p>8 rows × 26 columns</p>\n",
       "</div>"
      ],
      "text/plain": [
       "               Age    DailyRate  DistanceFromHome    Education  EmployeeCount  \\\n",
       "count  1470.000000  1470.000000       1470.000000  1470.000000         1470.0   \n",
       "mean     36.923810   802.485714          9.192517     2.912925            1.0   \n",
       "std       9.135373   403.509100          8.106864     1.024165            0.0   \n",
       "min      18.000000   102.000000          1.000000     1.000000            1.0   \n",
       "25%      30.000000   465.000000          2.000000     2.000000            1.0   \n",
       "50%      36.000000   802.000000          7.000000     3.000000            1.0   \n",
       "75%      43.000000  1157.000000         14.000000     4.000000            1.0   \n",
       "max      60.000000  1499.000000         29.000000     5.000000            1.0   \n",
       "\n",
       "       EmployeeNumber  EnvironmentSatisfaction   HourlyRate  JobInvolvement  \\\n",
       "count     1470.000000              1470.000000  1470.000000     1470.000000   \n",
       "mean      1024.865306                 2.721769    65.891156        2.729932   \n",
       "std        602.024335                 1.093082    20.329428        0.711561   \n",
       "min          1.000000                 1.000000    30.000000        1.000000   \n",
       "25%        491.250000                 2.000000    48.000000        2.000000   \n",
       "50%       1020.500000                 3.000000    66.000000        3.000000   \n",
       "75%       1555.750000                 4.000000    83.750000        3.000000   \n",
       "max       2068.000000                 4.000000   100.000000        4.000000   \n",
       "\n",
       "          JobLevel  ...  RelationshipSatisfaction  StandardHours  \\\n",
       "count  1470.000000  ...               1470.000000         1470.0   \n",
       "mean      2.063946  ...                  2.712245           80.0   \n",
       "std       1.106940  ...                  1.081209            0.0   \n",
       "min       1.000000  ...                  1.000000           80.0   \n",
       "25%       1.000000  ...                  2.000000           80.0   \n",
       "50%       2.000000  ...                  3.000000           80.0   \n",
       "75%       3.000000  ...                  4.000000           80.0   \n",
       "max       5.000000  ...                  4.000000           80.0   \n",
       "\n",
       "       StockOptionLevel  TotalWorkingYears  TrainingTimesLastYear  \\\n",
       "count       1470.000000        1470.000000            1470.000000   \n",
       "mean           0.793878          11.279592               2.799320   \n",
       "std            0.852077           7.780782               1.289271   \n",
       "min            0.000000           0.000000               0.000000   \n",
       "25%            0.000000           6.000000               2.000000   \n",
       "50%            1.000000          10.000000               3.000000   \n",
       "75%            1.000000          15.000000               3.000000   \n",
       "max            3.000000          40.000000               6.000000   \n",
       "\n",
       "       WorkLifeBalance  YearsAtCompany  YearsInCurrentRole  \\\n",
       "count      1470.000000     1470.000000         1470.000000   \n",
       "mean          2.761224        7.008163            4.229252   \n",
       "std           0.706476        6.126525            3.623137   \n",
       "min           1.000000        0.000000            0.000000   \n",
       "25%           2.000000        3.000000            2.000000   \n",
       "50%           3.000000        5.000000            3.000000   \n",
       "75%           3.000000        9.000000            7.000000   \n",
       "max           4.000000       40.000000           18.000000   \n",
       "\n",
       "       YearsSinceLastPromotion  YearsWithCurrManager  \n",
       "count              1470.000000           1470.000000  \n",
       "mean                  2.187755              4.123129  \n",
       "std                   3.222430              3.568136  \n",
       "min                   0.000000              0.000000  \n",
       "25%                   0.000000              2.000000  \n",
       "50%                   1.000000              3.000000  \n",
       "75%                   3.000000              7.000000  \n",
       "max                  15.000000             17.000000  \n",
       "\n",
       "[8 rows x 26 columns]"
      ]
     },
     "execution_count": 7,
     "metadata": {},
     "output_type": "execute_result"
    }
   ],
   "source": [
    "data.describe()"
   ]
  },
  {
   "cell_type": "code",
   "execution_count": 8,
   "id": "34b6758b",
   "metadata": {},
   "outputs": [
    {
     "data": {
      "text/plain": [
       "Age                         0\n",
       "Attrition                   0\n",
       "BusinessTravel              0\n",
       "DailyRate                   0\n",
       "Department                  0\n",
       "DistanceFromHome            0\n",
       "Education                   0\n",
       "EducationField              0\n",
       "EmployeeCount               0\n",
       "EmployeeNumber              0\n",
       "EnvironmentSatisfaction     0\n",
       "Gender                      0\n",
       "HourlyRate                  0\n",
       "JobInvolvement              0\n",
       "JobLevel                    0\n",
       "JobRole                     0\n",
       "JobSatisfaction             0\n",
       "MaritalStatus               0\n",
       "MonthlyIncome               0\n",
       "MonthlyRate                 0\n",
       "NumCompaniesWorked          0\n",
       "Over18                      0\n",
       "OverTime                    0\n",
       "PercentSalaryHike           0\n",
       "PerformanceRating           0\n",
       "RelationshipSatisfaction    0\n",
       "StandardHours               0\n",
       "StockOptionLevel            0\n",
       "TotalWorkingYears           0\n",
       "TrainingTimesLastYear       0\n",
       "WorkLifeBalance             0\n",
       "YearsAtCompany              0\n",
       "YearsInCurrentRole          0\n",
       "YearsSinceLastPromotion     0\n",
       "YearsWithCurrManager        0\n",
       "dtype: int64"
      ]
     },
     "execution_count": 8,
     "metadata": {},
     "output_type": "execute_result"
    }
   ],
   "source": [
    "# Checking for Null Values\n",
    "data[data.isnull()].count()"
   ]
  },
  {
   "cell_type": "code",
   "execution_count": 9,
   "id": "d70b2238",
   "metadata": {},
   "outputs": [
    {
     "data": {
      "text/plain": [
       "(1470, 32)"
      ]
     },
     "execution_count": 9,
     "metadata": {},
     "output_type": "execute_result"
    }
   ],
   "source": [
    "# Dropping columns which has only 1 value throughout the column\n",
    "for col in data.columns:\n",
    "    if len(data[col].unique()) == 1:\n",
    "        data.drop(col, inplace = True, axis = 1)\n",
    "data.shape"
   ]
  },
  {
   "cell_type": "code",
   "execution_count": 10,
   "id": "8d7602d7",
   "metadata": {},
   "outputs": [
    {
     "name": "stdout",
     "output_type": "stream",
     "text": [
      "Age : 43 : [41 49 37 33 27 32 59 30 38 36 35 29 31 34 28 22 53 24 21 42 44 46 39 43\n",
      " 50 26 48 55 45 56 23 51 40 54 58 20 25 19 57 52 47 18 60]\n",
      "DailyRate : 886 : [1102  279 1373 1392  591 1005 1324 1358  216 1299  809  153  670 1346\n",
      "  103 1389  334 1123 1219  371  673 1218  419  391  699 1282 1125  691\n",
      "  477  705  924 1459  125  895  813 1273  869  890  852 1141  464 1240\n",
      " 1357  994  721 1360 1065  408 1211 1229  626 1434 1488 1097 1443  515\n",
      "  853 1142  655 1115  427  653  989 1435 1223  836 1195 1339  664  318\n",
      " 1225 1328 1082  548  132  746  776  193  397  945 1214  111  573 1153\n",
      " 1400  541  432  288  669  530  632 1334  638 1093 1217 1353  120  682\n",
      "  489  807  827  871  665 1040 1420  240 1280  534 1456  658  142 1127\n",
      " 1031 1189 1354 1467  922  394 1312  750  441  684  249  841  147  528\n",
      "  594  470  957  542  802 1355 1150 1329  959 1033 1316  364  438  689\n",
      "  201 1427  857  933 1181 1395  662 1436  194  967 1496 1169 1145  630\n",
      "  303 1256  440 1450 1452  465  702 1157  602 1480 1268  713  134  526\n",
      " 1380  140  629 1356  328 1084  931  692 1069  313  894  556 1344  290\n",
      "  138  926 1261  472 1002  878  905 1180  121 1136  635 1151  644 1045\n",
      "  829 1242 1469  896  992 1052 1147 1396  663  119  979  319 1413  944\n",
      " 1323  532  818  854 1034  771 1401 1431  976 1411 1300  252 1327  832\n",
      " 1017 1199  504  505  916 1247  685  269 1416  833  307 1311  128  488\n",
      "  529 1210 1463  675 1385 1403  452  666 1158  228  996  728 1315  322\n",
      " 1479  797 1070  442  496 1372  920  688 1449 1117  636  506  444  950\n",
      "  889  555  230 1232  566 1302  812 1476  218 1132 1105  906  849  390\n",
      "  106 1249  192  553  117  185 1091  723 1220  588 1377 1018 1275  798\n",
      "  672 1162  508 1482  559  210  928 1001  549 1124  738  570 1130 1192\n",
      "  343  144 1296 1309  483  810  544 1062 1319  641 1332  756  845  593\n",
      " 1171  350  921 1144  143 1046  575  156 1283  755  304 1178  329 1362\n",
      " 1371  202  253  164 1107  759 1305  982  821 1381  480 1473  891 1063\n",
      "  645 1490  317  422 1485 1368 1448  296 1398 1349  986 1099 1116 1499\n",
      "  983 1009 1303 1274 1277  587  413 1276  988 1474  163  267  619  302\n",
      "  443  828  561  426  232 1306 1094  509  775  195  258  471  799  956\n",
      "  535 1495  446 1245  703  823 1246  622 1287  448  254 1365  538  525\n",
      "  558  782  362 1236 1112  204 1343  604 1216  646  160  238 1397  306\n",
      "  991  482 1176  913 1076  727  885  243  806  817 1410 1207 1442  693\n",
      "  929  562  608  580  970 1179  294  314  316  654  168  381  217  501\n",
      "  650  141  804  975 1090  346  430  268  167  621  527  883  954  310\n",
      "  719  725  715  657 1146  182  376  571  384  791 1111 1243 1092 1325\n",
      "  805  213  118  676 1252  286 1258  932 1041  859  720  946 1184  436\n",
      "  589  760  887 1318  625  180  586 1012  661  930  342 1230 1271 1278\n",
      "  607  130  300  583 1418 1269  379  395 1265 1222  341  868 1231  102\n",
      "  881 1383 1075  374 1086  781  177  500 1425 1454  617 1085  995 1122\n",
      "  618  546  462 1198 1272  154 1137 1188  188 1333  867  263  938  129\n",
      "  616  498 1404 1053  289 1376  231  152  882  903 1379  335  722  461\n",
      "  974 1126  840 1134  248  955  939 1391 1206  287 1441  109 1066  277\n",
      "  466 1055  265  135  247 1035  266  145 1038 1234 1109 1089  788  124\n",
      "  660 1186 1464  796  415  769 1003 1366  330 1492 1204  309 1330  469\n",
      "  697 1262 1050  770  406  203 1308  984  439  793 1451 1182  174  490\n",
      "  718  433  773  603  874  367  199  481  647 1384  902  819  862 1457\n",
      "  977  942 1402 1421 1361  917  200  150  179  696  116  363  107 1465\n",
      "  458 1212 1103  966 1010  326 1098  969 1167  694 1320  536  373  599\n",
      "  251  131  237 1429  648  735  531  429  968  879  640  412  848  360\n",
      " 1138  325 1322  299 1030  634  524  256 1060  935  495  282  206  943\n",
      "  523  507  601  855 1291 1405 1369  999 1202  285  404  736 1498 1200\n",
      " 1439  499  205  683 1462  949  652  332 1475  337  971 1174  667  560\n",
      "  172  383 1255  359  401  377  592 1445 1221  866  981  447 1326  748\n",
      "  990  405  115  790  830 1193 1423  467  271  410 1083  516  224  136\n",
      " 1029  333 1440  674 1342  898  824  492  598  740  888 1288  104 1108\n",
      "  479 1351  474  437  884 1370  264 1059  563  457 1313  241 1015  336\n",
      " 1387  170  208  671  711  737 1470  365  763  567  486  772  301  311\n",
      "  584  880  392  148  708 1259  786  370  678  146  581  918 1238  585\n",
      "  741  552  369  717  543  964  792  611  176  897  600 1054  428  181\n",
      "  211 1079  590  305  953  478 1375  244  511 1294  196  734 1239 1253\n",
      " 1128 1336  234  766  261 1194  431  572 1422 1297  574  355  207  706\n",
      "  280  726  414  352 1224  459 1254 1131  835 1172 1266  783  219 1213\n",
      " 1096 1251 1394  605 1064 1337  937  157  754 1168  155 1444  189  911\n",
      " 1321 1154  557  642  801  161 1382 1037  105  582  704  345 1120 1378\n",
      "  468  613 1023  628]\n",
      "DistanceFromHome : 29 : [ 1  8  2  3 24 23 27 16 15 26 19 21  5 11  9  7  6 10  4 25 12 18 29 22\n",
      " 14 20 28 17 13]\n",
      "Education : 5 : [2 1 4 3 5]\n",
      "EmployeeNumber : 1470 : [   1    2    4 ... 2064 2065 2068]\n",
      "EnvironmentSatisfaction : 4 : [2 3 4 1]\n",
      "HourlyRate : 71 : [ 94  61  92  56  40  79  81  67  44  84  49  31  93  50  51  80  96  78\n",
      "  45  82  53  83  58  72  48  42  41  86  97  75  33  37  73  98  36  47\n",
      "  71  30  43  99  59  95  57  76  87  66  55  32  52  70  62  64  63  60\n",
      " 100  46  39  77  35  91  54  34  90  65  88  85  89  68  69  74  38]\n",
      "JobInvolvement : 4 : [3 2 4 1]\n",
      "JobLevel : 5 : [2 1 3 4 5]\n",
      "JobSatisfaction : 4 : [4 2 3 1]\n",
      "MonthlyIncome : 1349 : [5993 5130 2090 ... 9991 5390 4404]\n",
      "MonthlyRate : 1427 : [19479 24907  2396 ...  5174 13243 10228]\n",
      "NumCompaniesWorked : 10 : [8 1 6 9 0 4 5 2 7 3]\n",
      "PercentSalaryHike : 15 : [11 23 15 12 13 20 22 21 17 14 16 18 19 24 25]\n",
      "PerformanceRating : 2 : [3 4]\n",
      "RelationshipSatisfaction : 4 : [1 4 2 3]\n",
      "StockOptionLevel : 4 : [0 1 3 2]\n",
      "TotalWorkingYears : 40 : [ 8 10  7  6 12  1 17  5  3 31 13  0 26 24 22  9 19  2 23 14 15  4 29 28\n",
      " 21 25 20 11 16 37 38 30 40 18 36 34 32 33 35 27]\n",
      "TrainingTimesLastYear : 7 : [0 3 2 5 1 4 6]\n",
      "WorkLifeBalance : 4 : [1 3 2 4]\n",
      "YearsAtCompany : 37 : [ 6 10  0  8  2  7  1  9  5  4 25  3 12 14 22 15 27 21 17 11 13 37 16 20\n",
      " 40 24 33 19 36 18 29 31 32 34 26 30 23]\n",
      "YearsInCurrentRole : 19 : [ 4  7  0  2  5  9  8  3  6 13  1 15 14 16 11 10 12 18 17]\n",
      "YearsSinceLastPromotion : 16 : [ 0  1  3  2  7  4  8  6  5 15  9 13 12 10 11 14]\n",
      "YearsWithCurrManager : 18 : [ 5  7  0  2  6  8  3 11 17  1  4 12  9 10 15 13 16 14]\n"
     ]
    }
   ],
   "source": [
    "# Checking unique values for numrical data\n",
    "for col in data.columns:\n",
    "    if data[col].dtype == 'int64':\n",
    "        print(col,':', len(data[col].unique()), ':', data[col].unique())"
   ]
  },
  {
   "cell_type": "code",
   "execution_count": 11,
   "id": "4b8eaefe",
   "metadata": {
    "scrolled": true
   },
   "outputs": [
    {
     "name": "stdout",
     "output_type": "stream",
     "text": [
      "Attrition : 2 : ['Yes' 'No']\n",
      "BusinessTravel : 3 : ['Travel_Rarely' 'Travel_Frequently' 'Non-Travel']\n",
      "Department : 3 : ['Sales' 'Research & Development' 'Human Resources']\n",
      "EducationField : 6 : ['Life Sciences' 'Other' 'Medical' 'Marketing' 'Technical Degree'\n",
      " 'Human Resources']\n",
      "Gender : 2 : ['Female' 'Male']\n",
      "JobRole : 9 : ['Sales Executive' 'Research Scientist' 'Laboratory Technician'\n",
      " 'Manufacturing Director' 'Healthcare Representative' 'Manager'\n",
      " 'Sales Representative' 'Research Director' 'Human Resources']\n",
      "MaritalStatus : 3 : ['Single' 'Married' 'Divorced']\n",
      "OverTime : 2 : ['Yes' 'No']\n"
     ]
    }
   ],
   "source": [
    "# Checking unique values for catagorical data\n",
    "for col in data.columns:\n",
    "    if data[col].dtype == 'object':\n",
    "        print(col,':', len(data[col].unique()), ':', data[col].unique())"
   ]
  },
  {
   "cell_type": "markdown",
   "id": "e14eb92b",
   "metadata": {},
   "source": [
    "# Splitting data into Independent and Dependent Variable"
   ]
  },
  {
   "cell_type": "code",
   "execution_count": 12,
   "id": "6b0532ea",
   "metadata": {},
   "outputs": [
    {
     "data": {
      "text/plain": [
       "((1470, 31), (1470,))"
      ]
     },
     "execution_count": 12,
     "metadata": {},
     "output_type": "execute_result"
    }
   ],
   "source": [
    "x = data.drop('Attrition', axis = 1)\n",
    "y = data['Attrition']\n",
    "x.shape, y.shape"
   ]
  },
  {
   "cell_type": "code",
   "execution_count": 13,
   "id": "65accfdd",
   "metadata": {},
   "outputs": [
    {
     "data": {
      "text/plain": [
       "((1176, 31), (294, 31))"
      ]
     },
     "execution_count": 13,
     "metadata": {},
     "output_type": "execute_result"
    }
   ],
   "source": [
    "# Split into train and test data\n",
    "import sklearn.model_selection as skms\n",
    "x_train,x_test,y_train,y_test = skms.train_test_split(x,y,\n",
    "                                                    train_size = 0.8)\n",
    "x_train.shape, x_test.shape"
   ]
  },
  {
   "cell_type": "markdown",
   "id": "3497ac2f",
   "metadata": {},
   "source": [
    "# Data Encoding"
   ]
  },
  {
   "cell_type": "code",
   "execution_count": 14,
   "id": "fcd52445",
   "metadata": {},
   "outputs": [],
   "source": [
    "from sklearn.preprocessing import OneHotEncoder\n",
    "from sklearn.preprocessing import OrdinalEncoder\n",
    "from sklearn.compose import ColumnTransformer"
   ]
  },
  {
   "cell_type": "code",
   "execution_count": 15,
   "id": "5c13f330",
   "metadata": {},
   "outputs": [],
   "source": [
    "transformer = ColumnTransformer(transformers = [\n",
    "    ('tnf1', OrdinalEncoder(categories = [['Sales', 'Research & Development', 'Human Resources']]), ['Department']),\n",
    "    ('tnf2', OrdinalEncoder(categories = [['Medical', 'Technical Degree', 'Life Sciences', 'Marketing', 'Human Resources', 'Other']]), ['EducationField']),\n",
    "    ('tnf3', OrdinalEncoder(categories = [['Sales Executive', 'Research Scientist', 'Laboratory Technician', 'Manufacturing Director', 'Healthcare Representative', 'Manager', 'Sales Representative', 'Research Director', 'Human Resources']]),['JobRole']),\n",
    "    ('tnf4', OneHotEncoder(sparse = False), ['BusinessTravel', 'Gender', 'MaritalStatus', 'OverTime'])\n",
    "], remainder = 'passthrough')\n"
   ]
  },
  {
   "cell_type": "code",
   "execution_count": 16,
   "id": "cfbade37",
   "metadata": {},
   "outputs": [
    {
     "data": {
      "text/plain": [
       "((1176, 37), (294, 37))"
      ]
     },
     "execution_count": 16,
     "metadata": {},
     "output_type": "execute_result"
    }
   ],
   "source": [
    "x_train = transformer.fit_transform(x_train)\n",
    "x_test = transformer.transform(x_test)\n",
    "x_train.shape, x_test.shape"
   ]
  },
  {
   "cell_type": "markdown",
   "id": "936dd305",
   "metadata": {},
   "source": [
    "# Scaling data"
   ]
  },
  {
   "cell_type": "code",
   "execution_count": 17,
   "id": "5d2eff9a",
   "metadata": {},
   "outputs": [],
   "source": [
    "from sklearn.preprocessing import StandardScaler\n",
    "sc = StandardScaler()\n",
    "x_train = sc.fit_transform(x_train)\n",
    "x_test = sc.fit_transform(x_test)"
   ]
  },
  {
   "cell_type": "markdown",
   "id": "f48ac287",
   "metadata": {},
   "source": [
    "# Using Logistic Regression"
   ]
  },
  {
   "cell_type": "code",
   "execution_count": 18,
   "id": "95aa469b",
   "metadata": {},
   "outputs": [
    {
     "data": {
      "text/plain": [
       "array(['No', 'Yes'], dtype=object)"
      ]
     },
     "execution_count": 18,
     "metadata": {},
     "output_type": "execute_result"
    }
   ],
   "source": [
    "from sklearn.linear_model import LogisticRegression\n",
    "model = LogisticRegression().fit(x_train, y_train)\n",
    "model_classes = model.classes_\n",
    "model_classes"
   ]
  },
  {
   "cell_type": "code",
   "execution_count": 19,
   "id": "aded6c01",
   "metadata": {},
   "outputs": [
    {
     "data": {
      "text/plain": [
       "array(['No', 'No', 'No', ..., 'No', 'No', 'No'], dtype=object)"
      ]
     },
     "execution_count": 19,
     "metadata": {},
     "output_type": "execute_result"
    }
   ],
   "source": [
    "y_pred = model.predict(x_train)\n",
    "y_pred"
   ]
  },
  {
   "cell_type": "code",
   "execution_count": 20,
   "id": "b26b3dc9",
   "metadata": {},
   "outputs": [],
   "source": [
    "import sklearn.metrics as sm"
   ]
  },
  {
   "cell_type": "code",
   "execution_count": 21,
   "id": "48fb92fc",
   "metadata": {},
   "outputs": [
    {
     "data": {
      "text/plain": [
       "0.891156462585034"
      ]
     },
     "execution_count": 21,
     "metadata": {},
     "output_type": "execute_result"
    }
   ],
   "source": [
    "sm.accuracy_score(y_train,y_pred)"
   ]
  },
  {
   "cell_type": "code",
   "execution_count": 22,
   "id": "003f7056",
   "metadata": {},
   "outputs": [
    {
     "data": {
      "text/plain": [
       "(0.891156462585034, 0.8741496598639455)"
      ]
     },
     "execution_count": 22,
     "metadata": {},
     "output_type": "execute_result"
    }
   ],
   "source": [
    "model.score(x_train, y_train), model.score(x_test, y_test)"
   ]
  },
  {
   "cell_type": "markdown",
   "id": "bf75f36b",
   "metadata": {},
   "source": [
    "# Using Decision Tree "
   ]
  },
  {
   "cell_type": "code",
   "execution_count": 23,
   "id": "b69c2682",
   "metadata": {},
   "outputs": [
    {
     "data": {
      "text/plain": [
       "array(['No', 'No', 'No', ..., 'No', 'Yes', 'No'], dtype=object)"
      ]
     },
     "execution_count": 23,
     "metadata": {},
     "output_type": "execute_result"
    }
   ],
   "source": [
    "from sklearn.tree import DecisionTreeClassifier\n",
    "model = DecisionTreeClassifier().fit(x_train, y_train)\n",
    "y_pred = model.predict(x_train)\n",
    "y_pred"
   ]
  },
  {
   "cell_type": "code",
   "execution_count": 24,
   "id": "1830a4fc",
   "metadata": {},
   "outputs": [
    {
     "data": {
      "text/plain": [
       "(1.0, 0.7755102040816326)"
      ]
     },
     "execution_count": 24,
     "metadata": {},
     "output_type": "execute_result"
    }
   ],
   "source": [
    "model.score(x_train, y_train), model.score(x_test, y_test)"
   ]
  },
  {
   "cell_type": "markdown",
   "id": "fc810697",
   "metadata": {},
   "source": [
    "# Using KMeans"
   ]
  },
  {
   "cell_type": "code",
   "execution_count": 25,
   "id": "c467e888",
   "metadata": {},
   "outputs": [
    {
     "data": {
      "text/plain": [
       "array([1, 0, 0, ..., 0, 1, 1])"
      ]
     },
     "execution_count": 25,
     "metadata": {},
     "output_type": "execute_result"
    }
   ],
   "source": [
    "from sklearn.cluster import KMeans\n",
    "model = KMeans(n_clusters=2,init = \"random\", random_state=0).fit(x_train)\n",
    "y_pred = model.predict(x_train)\n",
    "y_pred"
   ]
  },
  {
   "cell_type": "code",
   "execution_count": 26,
   "id": "70e7d276",
   "metadata": {},
   "outputs": [
    {
     "data": {
      "text/plain": [
       "(-39748.79841541323, -9965.559350100928)"
      ]
     },
     "execution_count": 26,
     "metadata": {},
     "output_type": "execute_result"
    }
   ],
   "source": [
    "model.score(x_train, y_train), model.score(x_test, y_test)"
   ]
  },
  {
   "cell_type": "markdown",
   "id": "d3aee9d6",
   "metadata": {},
   "source": [
    "# Using KNN"
   ]
  },
  {
   "cell_type": "code",
   "execution_count": 27,
   "id": "97cfaed9",
   "metadata": {},
   "outputs": [
    {
     "data": {
      "text/plain": [
       "array(['No', 'No', 'No', ..., 'No', 'No', 'No'], dtype=object)"
      ]
     },
     "execution_count": 27,
     "metadata": {},
     "output_type": "execute_result"
    }
   ],
   "source": [
    "from sklearn.neighbors import KNeighborsClassifier\n",
    "model = KNeighborsClassifier(n_neighbors=2).fit(x_train, y_train)\n",
    "y_pred = model.predict(x_train)\n",
    "y_pred"
   ]
  },
  {
   "cell_type": "code",
   "execution_count": 28,
   "id": "349c6133",
   "metadata": {},
   "outputs": [
    {
     "data": {
      "text/plain": [
       "(0.8818027210884354, 0.8231292517006803)"
      ]
     },
     "execution_count": 28,
     "metadata": {},
     "output_type": "execute_result"
    }
   ],
   "source": [
    "model.score(x_train, y_train), model.score(x_test, y_test)"
   ]
  },
  {
   "cell_type": "markdown",
   "id": "19f190f5",
   "metadata": {},
   "source": [
    "# Using Naive_Bayes"
   ]
  },
  {
   "cell_type": "code",
   "execution_count": 29,
   "id": "53c8dcd4",
   "metadata": {},
   "outputs": [
    {
     "data": {
      "text/plain": [
       "array(['No', 'No', 'No', ..., 'No', 'Yes', 'Yes'], dtype='<U3')"
      ]
     },
     "execution_count": 29,
     "metadata": {},
     "output_type": "execute_result"
    }
   ],
   "source": [
    "from sklearn.naive_bayes import GaussianNB\n",
    "model = GaussianNB().fit(x_train, y_train)\n",
    "y_pred = model.predict(x_train)\n",
    "y_pred"
   ]
  },
  {
   "cell_type": "code",
   "execution_count": 30,
   "id": "60427a97",
   "metadata": {},
   "outputs": [
    {
     "data": {
      "text/plain": [
       "(0.8027210884353742, 0.7959183673469388)"
      ]
     },
     "execution_count": 30,
     "metadata": {},
     "output_type": "execute_result"
    }
   ],
   "source": [
    "model.score(x_train, y_train), model.score(x_test, y_test)"
   ]
  },
  {
   "cell_type": "markdown",
   "id": "c67edb81",
   "metadata": {},
   "source": [
    "# Using Random Forest"
   ]
  },
  {
   "cell_type": "code",
   "execution_count": 31,
   "id": "eff61061",
   "metadata": {},
   "outputs": [
    {
     "data": {
      "text/plain": [
       "array(['No', 'No', 'No', ..., 'No', 'Yes', 'No'], dtype=object)"
      ]
     },
     "execution_count": 31,
     "metadata": {},
     "output_type": "execute_result"
    }
   ],
   "source": [
    "from sklearn.ensemble import RandomForestClassifier\n",
    "model = RandomForestClassifier().fit(x_train, y_train)\n",
    "y_pred = model.predict(x_train)\n",
    "y_pred"
   ]
  },
  {
   "cell_type": "code",
   "execution_count": 32,
   "id": "4dce6ac5",
   "metadata": {},
   "outputs": [
    {
     "data": {
      "text/plain": [
       "(1.0, 0.8537414965986394)"
      ]
     },
     "execution_count": 32,
     "metadata": {},
     "output_type": "execute_result"
    }
   ],
   "source": [
    "model.score(x_train, y_train), model.score(x_test, y_test)"
   ]
  },
  {
   "cell_type": "code",
   "execution_count": null,
   "id": "8f0d35e8",
   "metadata": {},
   "outputs": [],
   "source": []
  },
  {
   "cell_type": "code",
   "execution_count": null,
   "id": "555a8b88",
   "metadata": {},
   "outputs": [],
   "source": []
  },
  {
   "cell_type": "code",
   "execution_count": null,
   "id": "2a747719",
   "metadata": {},
   "outputs": [],
   "source": []
  }
 ],
 "metadata": {
  "kernelspec": {
   "display_name": "Python 3 (ipykernel)",
   "language": "python",
   "name": "python3"
  },
  "language_info": {
   "codemirror_mode": {
    "name": "ipython",
    "version": 3
   },
   "file_extension": ".py",
   "mimetype": "text/x-python",
   "name": "python",
   "nbconvert_exporter": "python",
   "pygments_lexer": "ipython3",
   "version": "3.9.7"
  }
 },
 "nbformat": 4,
 "nbformat_minor": 5
}
